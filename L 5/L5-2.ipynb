{
  "nbformat": 4,
  "nbformat_minor": 0,
  "metadata": {
    "colab": {
      "provenance": []
    },
    "kernelspec": {
      "name": "python3",
      "display_name": "Python 3"
    },
    "language_info": {
      "name": "python"
    }
  },
  "cells": [
    {
      "cell_type": "code",
      "execution_count": 8,
      "metadata": {
        "id": "tly-VMguMNBR"
      },
      "outputs": [],
      "source": [
        "import numpy as np \n",
        "from sklearn.model_selection import LeaveOneOut\n",
        "from sklearn.linear_model import LinearRegression"
      ]
    },
    {
      "cell_type": "code",
      "source": [
        "np.random.seed(10)\n",
        "listx = [] \n",
        "x = np.random.randn(100,5)\n",
        "w = np.array([0.2,0.3,0.4,0.5,0.6])\n",
        "y = np.dot(x,w) + np.random.randn()\n",
        "outlierindex = int(np.random.random()*50)\n",
        "y[outlierindex] = np.dot(x[outlierindex],w) + 10*np.random.randn()\n",
        "regr = LinearRegression()\n",
        "leave = LeaveOneOut()\n",
        "for i,j in leave.split(x):\n",
        "  regr.fit(x[i],y[i])\n",
        "  y_pred = regr.predict(x[j])\n",
        "  error = abs(y[j]-y_pred)\n",
        "  listx.append(error[0])\n",
        "  \n",
        "print(\"selected outlier\",outlierindex)\n",
        "print(\"\\npredicted outlier\",np.argmax(listx))\n",
        "\n",
        "outlier = []\n",
        "listx = []\n",
        "for i in range(5):\n",
        "  outlierindex = int(np.random.random()*50)\n",
        "  y[outlierindex] = np.dot(x[outlierindex],w)+10*np.random.randn()\n",
        "  outlier.append(outlierindex)\n",
        "for i,j in leave.split(x):\n",
        "  regr.fit(x[i],y[i])\n",
        "  y_pred = regr.predict(x[j])\n",
        "  error = abs(y[j]-y_pred)\n",
        "  listx.append(error[0])\n",
        "  \n",
        "print(\"\\nselected outlier\",outlier)\n",
        "print(\"\\npredicted outlier\",np.argsort(listx)[-5:])"
      ],
      "metadata": {
        "colab": {
          "base_uri": "https://localhost:8080/"
        },
        "id": "N4sNj3BgM2pC",
        "outputId": "cff94c06-c57c-4d05-aaae-48eb9842d5ef"
      },
      "execution_count": 9,
      "outputs": [
        {
          "output_type": "stream",
          "name": "stdout",
          "text": [
            "selected outlier 15\n",
            "\n",
            "predicted outlier 15\n",
            "\n",
            "selected outlier [40, 13, 49, 16, 1]\n",
            "\n",
            "predicted outlier [ 1 13 16 40 15]\n"
          ]
        }
      ]
    }
  ]
}