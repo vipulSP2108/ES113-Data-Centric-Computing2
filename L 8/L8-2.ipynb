{
  "nbformat": 4,
  "nbformat_minor": 0,
  "metadata": {
    "colab": {
      "provenance": []
    },
    "kernelspec": {
      "name": "python3",
      "display_name": "Python 3"
    },
    "language_info": {
      "name": "python"
    }
  },
  "cells": [
    {
      "cell_type": "code",
      "execution_count": 24,
      "metadata": {
        "id": "tly-VMguMNBR"
      },
      "outputs": [],
      "source": [
        "import numpy as np \n",
        "from sklearn.datasets import load_digits\n",
        "from sklearn.cluster import KMeans\n",
        "from sklearn.metrics import confusion_matrix\n",
        "from sklearn.decomposition import PCA"
      ]
    },
    {
      "cell_type": "code",
      "source": [
        "d = load_digits()\n",
        "\n",
        "data = d.data\n",
        "tar = d.target\n",
        "\n",
        "x1 = data+np.random.normal(scale=1, size=data.shape)\n",
        "y1 = KMeans(10).fit_predict(x1)\n",
        "\n",
        "matx = confusion_matrix(tar,y1)\n",
        "a = np.trace(matx)/np.sum(matx)\n",
        "print('confusion matrix', matx)\n",
        "print('Accuracy of Noised dataset :', a)\n",
        "\n",
        "p = PCA(2)\n",
        "x2 = p.fit_transform(x1)\n",
        "y2 = KMeans(10).fit_predict(x2)\n",
        "\n",
        "matx = confusion_matrix(y,y2)\n",
        "a = np.trace(matx)/np.sum(matx)\n",
        "\n",
        "print('confusion matrix',matx)\n",
        "print('Accuracy after using PCA :',a)"
      ],
      "metadata": {
        "id": "I323pZigVPVD",
        "colab": {
          "base_uri": "https://localhost:8080/"
        },
        "outputId": "fa876c4f-a292-4818-c279-8e04eb5d1c4b"
      },
      "execution_count": 25,
      "outputs": [
        {
          "output_type": "stream",
          "name": "stderr",
          "text": [
            "/usr/local/lib/python3.10/dist-packages/sklearn/cluster/_kmeans.py:870: FutureWarning: The default value of `n_init` will change from 10 to 'auto' in 1.4. Set the value of `n_init` explicitly to suppress the warning\n",
            "  warnings.warn(\n"
          ]
        },
        {
          "output_type": "stream",
          "name": "stdout",
          "text": [
            "confusion matrix [[  0   0 176   0   0   2   0   0   0   0]\n",
            " [  1 100   0  54   1   0   0   2   0  24]\n",
            " [ 12   7   1   3   0   0   3   0   4 147]\n",
            " [154   7   0   0   2   0  11   0   7   2]\n",
            " [  0   3   0   4   0 165   0   0   9   0]\n",
            " [  2   0   0   0 134   1  44   1   0   0]\n",
            " [  0   2   1   1   0   0   0 177   0   0]\n",
            " [  0   2   0   2   0   0   0   0 175   0]\n",
            " [  2  99   1   6   5   0  53   2   3   3]\n",
            " [  7   1   0  20   4   0 139   0   9   0]]\n",
            "Accuracy of Noised dataset : 0.05843071786310518\n",
            "confusion matrix [[ 17  12  21  16  42  23  17  14   6  10]\n",
            " [161 180 158 155 186 178 165 193 134 109]\n",
            " [  0   0   0   0   0   0   0   0   0   0]\n",
            " [  0   0   0   0   0   0   0   0   0   0]\n",
            " [  0   0   0   0   0   0   0   0   0   0]\n",
            " [  0   0   0   0   0   0   0   0   0   0]\n",
            " [  0   0   0   0   0   0   0   0   0   0]\n",
            " [  0   0   0   0   0   0   0   0   0   0]\n",
            " [  0   0   0   0   0   0   0   0   0   0]\n",
            " [  0   0   0   0   0   0   0   0   0   0]]\n",
            "Accuracy after using PCA : 0.10962715637173066\n"
          ]
        },
        {
          "output_type": "stream",
          "name": "stderr",
          "text": [
            "/usr/local/lib/python3.10/dist-packages/sklearn/cluster/_kmeans.py:870: FutureWarning: The default value of `n_init` will change from 10 to 'auto' in 1.4. Set the value of `n_init` explicitly to suppress the warning\n",
            "  warnings.warn(\n"
          ]
        }
      ]
    }
  ]
}