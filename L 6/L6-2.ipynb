{
  "nbformat": 4,
  "nbformat_minor": 0,
  "metadata": {
    "colab": {
      "provenance": []
    },
    "kernelspec": {
      "name": "python3",
      "display_name": "Python 3"
    },
    "language_info": {
      "name": "python"
    }
  },
  "cells": [
    {
      "cell_type": "code",
      "execution_count": 10,
      "metadata": {
        "id": "tly-VMguMNBR"
      },
      "outputs": [],
      "source": [
        "import numpy as np\n",
        "from sklearn.datasets import load_digits \n",
        "from sklearn.naive_bayes import GaussianNB\n",
        "from sklearn.model_selection import cross_val_score\n",
        "from sklearn.model_selection import cross_val_predict\n",
        "from sklearn.metrics import confusion_matrix"
      ]
    },
    {
      "cell_type": "code",
      "source": [
        "digits = load_digits()\n",
        "xclass_1 = digits.data[digits.target==0]\n",
        "yclass_1 = digits.target[digits.target==0]\n",
        "\n",
        "xclass_2 = digits.data[digits.target!=0]\n",
        "yclass_2 = digits.target[digits.target!=0]\n",
        "\n",
        "yclass_2[yclass_2!=0] = 1\n",
        "\n",
        "X = np.concatenate((xclass_1, xclass_2), axis=0)\n",
        "y = np.concatenate((yclass_1, yclass_2), axis=0)\n",
        "clf = GaussianNB()\n",
        "scores = cross_val_score(clf, X, y, cv=5)\n",
        "\n",
        "print('Average error is{1 - np.mean(scores)}')\n",
        "\n",
        "gush = GaussianNB()\n",
        "y_predected = cross_val_predict(gush, X, y, cv = 5)\n",
        "\n",
        "prediction = clf.fit(X, y).predict(X)\n",
        "\n",
        "error_of_num = []\n",
        "for i in range(10):\n",
        "  error=1-(prediction[digits.target==i]==y[digits.target==i]).mean()\n",
        "  error_of_num.append(error)\n",
        "max_error_value = max(error_of_num)\n",
        "max_error_index = error_of_num.index(max_error_value)\n",
        "  \n",
        "print(f'\\nMaximum error for digit{max_error_index}is{max_error_value}')"
      ],
      "metadata": {
        "colab": {
          "base_uri": "https://localhost:8080/"
        },
        "id": "N4sNj3BgM2pC",
        "outputId": "2daf35b7-30cc-4b17-a887-bc922067444d"
      },
      "execution_count": 11,
      "outputs": [
        {
          "output_type": "stream",
          "name": "stdout",
          "text": [
            "Average error is{1 - np.mean(scores)}\n",
            "\n",
            "Maximum error for digit5is0.027472527472527486\n"
          ]
        }
      ]
    }
  ]
}