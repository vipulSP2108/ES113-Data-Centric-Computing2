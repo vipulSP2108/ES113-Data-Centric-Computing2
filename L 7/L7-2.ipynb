{
  "nbformat": 4,
  "nbformat_minor": 0,
  "metadata": {
    "colab": {
      "provenance": []
    },
    "kernelspec": {
      "name": "python3",
      "display_name": "Python 3"
    },
    "language_info": {
      "name": "python"
    }
  },
  "cells": [
    {
      "cell_type": "code",
      "execution_count": 21,
      "metadata": {
        "id": "tly-VMguMNBR"
      },
      "outputs": [],
      "source": [
        "import numpy as np\n",
        "from sklearn.datasets import load_iris\n",
        "from sklearn.model_selection import train_test_split \n",
        "from sklearn.metrics import accuracy_score, confusion_matrix"
      ]
    },
    {
      "cell_type": "code",
      "source": [
        "def euclidean_distance(x1, x2):\n",
        "  return np.sqrt(np.sum((x1-x2)**2))\n",
        "  \n",
        "class KNN:\n",
        "  def __init__(self, k=5):\n",
        "    self.k = k\n",
        "\n",
        "  def fit(self, X, y):\n",
        "    self.X_train = X\n",
        "    self.y_train = y\n",
        "\n",
        "  def predict(self, X):\n",
        "    y_pred = np.zeros(X.shape[0])\n",
        "    for i, x in enumerate(X):\n",
        "      distances = np.array([euclidean_distance(x, x_train) for x_train in self.X_train])\n",
        "      indices = distances.argsort()[:self.k]\n",
        "      k_nearest_classes = self.y_train[indices]\n",
        "      y_pred[i]=np.bincount(k_nearest_classes).argmax()\n",
        "      \n",
        "    return y_pred\n",
        "    \n",
        "iris = load_iris()\n",
        "\n",
        "x_train, x_test, y_train, y_test = train_test_split(iris.data, iris.target, test_size=0.25, random_state=42)\n",
        "\n",
        "knn = KNN(k=5)\n",
        "knn.fit(x_train, y_train)\n",
        "y_predicted = knn.predict(x_test)\n",
        "accuracy = np.mean(y_predicted==y_test)\n",
        "\n",
        "print(\"Accuracy\", accuracy)"
      ],
      "metadata": {
        "id": "I323pZigVPVD",
        "colab": {
          "base_uri": "https://localhost:8080/"
        },
        "outputId": "d5f70691-77ad-4496-b9ec-c9c8c5dd9607"
      },
      "execution_count": 22,
      "outputs": [
        {
          "output_type": "stream",
          "name": "stdout",
          "text": [
            "Accuracy 1.0\n"
          ]
        }
      ]
    },
    {
      "cell_type": "code",
      "source": [
        "matx=np.zeros((3,3))\n",
        "conf_matx = matx(y_test, y_predicted)\n",
        "\n",
        "print(\"\\nConfusion matrix\", conf_matx)"
      ],
      "metadata": {
        "colab": {
          "base_uri": "https://localhost:8080/",
          "height": 240
        },
        "id": "YpcPo-RDXSNG",
        "outputId": "28a7ec34-c29b-4b5d-a2be-4609c94f7677"
      },
      "execution_count": 23,
      "outputs": [
        {
          "output_type": "error",
          "ename": "TypeError",
          "evalue": "ignored",
          "traceback": [
            "\u001b[0;31m---------------------------------------------------------------------------\u001b[0m",
            "\u001b[0;31mTypeError\u001b[0m                                 Traceback (most recent call last)",
            "\u001b[0;32m<ipython-input-23-3f97b6646d34>\u001b[0m in \u001b[0;36m<cell line: 2>\u001b[0;34m()\u001b[0m\n\u001b[1;32m      1\u001b[0m \u001b[0mmatx\u001b[0m\u001b[0;34m=\u001b[0m\u001b[0mnp\u001b[0m\u001b[0;34m.\u001b[0m\u001b[0mzeros\u001b[0m\u001b[0;34m(\u001b[0m\u001b[0;34m(\u001b[0m\u001b[0;36m3\u001b[0m\u001b[0;34m,\u001b[0m\u001b[0;36m3\u001b[0m\u001b[0;34m)\u001b[0m\u001b[0;34m)\u001b[0m\u001b[0;34m\u001b[0m\u001b[0;34m\u001b[0m\u001b[0m\n\u001b[0;32m----> 2\u001b[0;31m \u001b[0mconf_matx\u001b[0m \u001b[0;34m=\u001b[0m \u001b[0mmatx\u001b[0m\u001b[0;34m(\u001b[0m\u001b[0my_test\u001b[0m\u001b[0;34m,\u001b[0m \u001b[0my_predicted\u001b[0m\u001b[0;34m)\u001b[0m\u001b[0;34m\u001b[0m\u001b[0;34m\u001b[0m\u001b[0m\n\u001b[0m\u001b[1;32m      3\u001b[0m \u001b[0;34m\u001b[0m\u001b[0m\n\u001b[1;32m      4\u001b[0m \u001b[0mprint\u001b[0m\u001b[0;34m(\u001b[0m\u001b[0;34m\"\\nConfusion matrix\"\u001b[0m\u001b[0;34m,\u001b[0m \u001b[0mconf_matx\u001b[0m\u001b[0;34m)\u001b[0m\u001b[0;34m\u001b[0m\u001b[0;34m\u001b[0m\u001b[0m\n",
            "\u001b[0;31mTypeError\u001b[0m: 'numpy.ndarray' object is not callable"
          ]
        }
      ]
    }
  ]
}